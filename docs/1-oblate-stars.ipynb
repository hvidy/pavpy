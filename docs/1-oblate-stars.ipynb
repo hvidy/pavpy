{
 "cells": [
  {
   "cell_type": "code",
   "execution_count": 2,
   "id": "7571bbfb-2b75-4c89-8dde-3a76d6ad490c",
   "metadata": {},
   "outputs": [
    {
     "ename": "ModuleNotFoundError",
     "evalue": "No module named 'pavpy'",
     "output_type": "error",
     "traceback": [
      "\u001b[0;31m---------------------------------------------------------------------------\u001b[0m",
      "\u001b[0;31mModuleNotFoundError\u001b[0m                       Traceback (most recent call last)",
      "Input \u001b[0;32mIn [2]\u001b[0m, in \u001b[0;36m<cell line: 1>\u001b[0;34m()\u001b[0m\n\u001b[0;32m----> 1\u001b[0m \u001b[38;5;28;01mfrom\u001b[39;00m \u001b[38;5;21;01mpavpy\u001b[39;00m \u001b[38;5;28;01mimport\u001b[39;00m pavol1l2\n",
      "\u001b[0;31mModuleNotFoundError\u001b[0m: No module named 'pavpy'"
     ]
    }
   ],
   "source": [
    "from pavpy import pavol1l2"
   ]
  },
  {
   "cell_type": "code",
   "execution_count": null,
   "id": "de2e8bfb-280f-4f0f-a156-f71bebaa4314",
   "metadata": {},
   "outputs": [],
   "source": []
  }
 ],
 "metadata": {
  "kernelspec": {
   "display_name": "Python 3 (ipykernel)",
   "language": "python",
   "name": "python3"
  },
  "language_info": {
   "codemirror_mode": {
    "name": "ipython",
    "version": 3
   },
   "file_extension": ".py",
   "mimetype": "text/x-python",
   "name": "python",
   "nbconvert_exporter": "python",
   "pygments_lexer": "ipython3",
   "version": "3.9.12"
  }
 },
 "nbformat": 4,
 "nbformat_minor": 5
}
